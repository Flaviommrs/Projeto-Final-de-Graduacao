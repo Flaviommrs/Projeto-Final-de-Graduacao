{
 "cells": [
  {
   "cell_type": "code",
   "execution_count": 1,
   "metadata": {},
   "outputs": [],
   "source": [
    "import matplotlib.pyplot as plt \n",
    "import numpy as np\n",
    "from sklearn.linear_model import LinearRegression\n",
    "from sklearn import metrics\n",
    "import json\n",
    "import csv"
   ]
  },
  {
   "cell_type": "code",
   "execution_count": 2,
   "metadata": {},
   "outputs": [],
   "source": [
    "with open('kernels.json') as json_file:\n",
    "    kernels = json.load(json_file)"
   ]
  },
  {
   "cell_type": "code",
   "execution_count": 3,
   "metadata": {},
   "outputs": [],
   "source": [
    "with open('squezzenet_layers.txt') as json_file:\n",
    "    data = json.load(json_file)\n",
    "    \n",
    "    names = []\n",
    "    for layer in data:\n",
    "        names.append(layer)\n",
    "        \n",
    "    itens = []\n",
    "    for name in names:\n",
    "        itens.append(data[name])"
   ]
  },
  {
   "cell_type": "code",
   "execution_count": 4,
   "metadata": {},
   "outputs": [
    {
     "name": "stdout",
     "output_type": "stream",
     "text": [
      "11\n",
      "5616\n",
      "4493\n",
      "1123\n",
      "4493\n"
     ]
    }
   ],
   "source": [
    "    conv_2d = [[],[],[],[],[],[],[],[],[],[],[]]\n",
    "    max_pol = [[],[],[],[],[],[],[],[],[],[],[]]\n",
    "    \n",
    "    conv_2d_y = []\n",
    "    max_pol_y = []\n",
    "    \n",
    "    newData = {}\n",
    "    i = 0\n",
    "    for kernel,layer in zip(kernels,itens):\n",
    "        \n",
    "        if(kernel[\"kernel\"] == \"CONV_2D\"):\n",
    "        \n",
    "            conv_2d[0].extend(np.repeat(layer[\"output\"][0], len(kernel['average_power_per_image'])))\n",
    "            conv_2d[1].extend(np.repeat(layer[\"output\"][1], len(kernel['average_power_per_image'])))\n",
    "            conv_2d[2].extend(np.repeat(layer[\"output\"][2], len(kernel['average_power_per_image'])))\n",
    "            conv_2d[3].extend(np.repeat(layer[\"filters\"][0], len(kernel['average_power_per_image'])))\n",
    "            conv_2d[4].extend(np.repeat(layer[\"filters\"][1], len(kernel['average_power_per_image'])))\n",
    "            conv_2d[5].extend(np.repeat(layer[\"filters\"][2], len(kernel['average_power_per_image'])))\n",
    "            conv_2d[6].extend(np.repeat(layer[\"stride\"], len(kernel['average_power_per_image'])))\n",
    "            conv_2d[7].extend(np.repeat(layer[\"input\"][0], len(kernel['average_power_per_image'])))\n",
    "            conv_2d[8].extend(np.repeat(layer[\"input\"][1], len(kernel['average_power_per_image'])))\n",
    "            conv_2d[9].extend(np.repeat(layer[\"input\"][2], len(kernel['average_power_per_image'])))\n",
    "            conv_2d[10].extend(np.asarray(kernel['average_power_per_image']))\n",
    "            i = i + 1\n",
    "            continue\n",
    "\n",
    "    training_conv = []\n",
    "    evaluating_conv = []\n",
    "    \n",
    "    conv_2d = np.transpose(conv_2d)\n",
    "    \n",
    "    np.random.shuffle(conv_2d)\n",
    "    \n",
    "    conv_2d = np.transpose(conv_2d)\n",
    "\n",
    "    percentage = 0.8\n",
    "    length = round(percentage * len(conv_2d[0]))\n",
    "    \n",
    "    print(len(conv_2d))\n",
    "    print(len(conv_2d[0]))\n",
    "    \n",
    "    for column in conv_2d:\n",
    "        training_conv.append(column[:length])\n",
    "        evaluating_conv.append(column[length:])\n",
    "\n",
    "    print(len(training_conv[0]))\n",
    "    print(len(evaluating_conv[0]))\n",
    "\n",
    "    training_y = np.asarray(training_conv[10])\n",
    "    evaluating_y = np.asarray(evaluating_conv[10])\n",
    "    \n",
    "    training_conv = np.asarray(training_conv)\n",
    "    evaluating_conv = np.asarray(evaluating_conv)\n",
    "    \n",
    "    training_conv = training_conv[:-1]\n",
    "    evaluating_conv = evaluating_conv[:-1]\n",
    "    \n",
    "    print(len(training_y))"
   ]
  },
  {
   "cell_type": "code",
   "execution_count": 5,
   "metadata": {},
   "outputs": [
    {
     "name": "stdout",
     "output_type": "stream",
     "text": [
      "[[ 55.  13.  55. ...  27. 112.  27.]\n",
      " [ 55.  13.  55. ...  27. 112.  27.]\n",
      " [ 64. 256.  64. ... 128.  96.  48.]\n",
      " ...\n",
      " [ 55.  13.  55. ...  27. 224.  27.]\n",
      " [ 55.  13.  55. ...  27. 224.  27.]\n",
      " [ 16.  64.  16. ...  32.   3. 384.]]\n"
     ]
    }
   ],
   "source": [
    "    print(training_conv)"
   ]
  },
  {
   "cell_type": "code",
   "execution_count": 6,
   "metadata": {},
   "outputs": [
    {
     "data": {
      "text/plain": [
       "LinearRegression(copy_X=True, fit_intercept=True, n_jobs=None, normalize=False)"
      ]
     },
     "execution_count": 6,
     "metadata": {},
     "output_type": "execute_result"
    }
   ],
   "source": [
    "    training_conv = np.transpose(training_conv)\n",
    "    evaluating_conv = np.transpose(evaluating_conv)\n",
    "    \n",
    "    reg = LinearRegression()\n",
    "    reg.fit(training_conv, training_y)"
   ]
  },
  {
   "cell_type": "code",
   "execution_count": 7,
   "metadata": {},
   "outputs": [],
   "source": [
    "    y_pred = reg.predict(evaluating_conv)\n",
    "    "
   ]
  },
  {
   "cell_type": "code",
   "execution_count": 8,
   "metadata": {},
   "outputs": [
    {
     "name": "stdout",
     "output_type": "stream",
     "text": [
      "[3.25586081 3.57959235 3.98634697 ... 3.57959235 3.25586081 3.91823638]\n"
     ]
    }
   ],
   "source": [
    "    print(y_pred)"
   ]
  },
  {
   "cell_type": "code",
   "execution_count": 9,
   "metadata": {},
   "outputs": [
    {
     "name": "stdout",
     "output_type": "stream",
     "text": [
      "Intercept: \n",
      " 35498033.86323846\n",
      "Coefficients: \n",
      " [ 7.64547750e+09 -7.64579445e+09 -6.28172416e+09  6.28172416e+09\n",
      " -1.10055292e+07  1.10055289e+07 -3.54980292e+07  3.99190810e+07\n",
      " -3.96021343e+07 -8.94069672e-04]\n"
     ]
    }
   ],
   "source": [
    "    print('Intercept: \\n', reg.intercept_)\n",
    "    print('Coefficients: \\n', reg.coef_)"
   ]
  },
  {
   "cell_type": "code",
   "execution_count": 10,
   "metadata": {},
   "outputs": [
    {
     "data": {
      "text/plain": [
       "0.7019201933644136"
      ]
     },
     "execution_count": 10,
     "metadata": {},
     "output_type": "execute_result"
    }
   ],
   "source": [
    "    reg.score(evaluating_conv, evaluating_y)"
   ]
  },
  {
   "cell_type": "code",
   "execution_count": 11,
   "metadata": {},
   "outputs": [
    {
     "name": "stdout",
     "output_type": "stream",
     "text": [
      "Mean Absolute Error: 0.14067104279278433\n",
      "Mean Squared Error: 0.03874748418606962\n",
      "Root Mean Squared Error: 0.1968438065727993\n"
     ]
    }
   ],
   "source": [
    "    print('Mean Absolute Error:', metrics.mean_absolute_error(evaluating_y, y_pred))\n",
    "    print('Mean Squared Error:', metrics.mean_squared_error(evaluating_y, y_pred))\n",
    "    print('Root Mean Squared Error:', np.sqrt(metrics.mean_squared_error(evaluating_y, y_pred)))"
   ]
  },
  {
   "cell_type": "code",
   "execution_count": null,
   "metadata": {},
   "outputs": [],
   "source": []
  }
 ],
 "metadata": {
  "kernelspec": {
   "display_name": "Python 3",
   "language": "python",
   "name": "python3"
  },
  "language_info": {
   "codemirror_mode": {
    "name": "ipython",
    "version": 3
   },
   "file_extension": ".py",
   "mimetype": "text/x-python",
   "name": "python",
   "nbconvert_exporter": "python",
   "pygments_lexer": "ipython3",
   "version": "3.7.2"
  }
 },
 "nbformat": 4,
 "nbformat_minor": 2
}
