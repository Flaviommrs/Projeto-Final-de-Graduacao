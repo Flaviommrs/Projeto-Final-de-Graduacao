{
 "cells": [
  {
   "cell_type": "code",
   "execution_count": 1,
   "metadata": {},
   "outputs": [],
   "source": [
    "import matplotlib.pyplot as plt \n",
    "import numpy as np\n",
    "from sklearn.linear_model import LinearRegression\n",
    "import json\n",
    "import csv\n",
    "from sklearn import metrics"
   ]
  },
  {
   "cell_type": "code",
   "execution_count": 2,
   "metadata": {},
   "outputs": [],
   "source": [
    "with open('kernels.json') as json_file:\n",
    "    kernels = json.load(json_file)"
   ]
  },
  {
   "cell_type": "code",
   "execution_count": 3,
   "metadata": {},
   "outputs": [],
   "source": [
    "with open('squezzenet_layers.txt') as json_file:\n",
    "    data = json.load(json_file)\n",
    "    \n",
    "    names = []\n",
    "    for layer in data:\n",
    "        names.append(layer)\n",
    "        \n",
    "    itens = []\n",
    "    for name in names:\n",
    "        itens.append(data[name])"
   ]
  },
  {
   "cell_type": "code",
   "execution_count": 4,
   "metadata": {},
   "outputs": [],
   "source": [
    "    conv_2d = [[],[],[],[],[],[],[],[],[],[],[]]\n",
    "    max_pol = [[],[],[],[],[],[],[],[],[],[],[]]\n",
    "    \n",
    "    conv_2d_y = []\n",
    "    max_pol_y = []\n",
    "    \n",
    "    newData = {}\n",
    "    i = 0"
   ]
  },
  {
   "cell_type": "code",
   "execution_count": 5,
   "metadata": {},
   "outputs": [],
   "source": [
    "    for kernel,layer in zip(kernels,itens):\n",
    "        \n",
    "        if(kernel[\"kernel\"] == \"CONV_2D\"):\n",
    "            conv_2d[0].extend(np.repeat(layer[\"output\"][0], len(kernel[\"averagePower\"])))\n",
    "            conv_2d[1].extend(np.repeat(layer[\"output\"][1], len(kernel[\"averagePower\"])))\n",
    "            conv_2d[2].extend(np.repeat(layer[\"output\"][2], len(kernel[\"averagePower\"])))\n",
    "            conv_2d[3].extend(np.repeat(layer[\"filters\"][0], len(kernel[\"averagePower\"])))\n",
    "            conv_2d[4].extend(np.repeat(layer[\"filters\"][1], len(kernel[\"averagePower\"])))\n",
    "            conv_2d[5].extend(np.repeat(layer[\"filters\"][2], len(kernel[\"averagePower\"])))\n",
    "            conv_2d[6].extend(np.repeat(layer[\"stride\"], len(kernel[\"averagePower\"])))\n",
    "            conv_2d[7].extend(np.repeat(layer[\"input\"][0], len(kernel[\"averagePower\"])))\n",
    "            conv_2d[8].extend(np.repeat(layer[\"input\"][1], len(kernel[\"averagePower\"])))\n",
    "            conv_2d[9].extend(np.repeat(layer[\"input\"][2], len(kernel[\"averagePower\"])))\n",
    "#             newData[name][\"executionTime\"] = np.asarray(kernel[\"executionTime\"])\n",
    "            conv_2d[10].extend(np.asarray(kernel[\"averagePower\"]))\n",
    "            i = i + 1\n",
    "            continue\n",
    "        \n",
    "#         if(kernel[\"kernel\"] == \"MAX_POOL_2D\"):\n",
    "            \n",
    "#             max_pol[0].extend(np.repeat(layer[\"output\"][0], len(kernel[\"averagePower\"]))) \n",
    "#             max_pol[1].extend(np.repeat(layer[\"output\"][1], len(kernel[\"averagePower\"])))\n",
    "#             max_pol[2].extend(np.repeat(layer[\"output\"][2], len(kernel[\"averagePower\"])))\n",
    "#             max_pol[3].extend(np.repeat(layer[\"filters\"][0], len(kernel[\"averagePower\"])))\n",
    "#             max_pol[4].extend(np.repeat(layer[\"filters\"][1], len(kernel[\"averagePower\"])))\n",
    "#             max_pol[5].extend(np.repeat(layer[\"filters\"][2], len(kernel[\"averagePower\"])))\n",
    "#             max_pol[6].extend(np.repeat(layer[\"stride\"], len(kernel[\"averagePower\"])))\n",
    "#             max_pol[7].extend(np.repeat(layer[\"output\"][0], len(kernel[\"averagePower\"]))) \n",
    "#             max_pol[8].extend(np.repeat(layer[\"output\"][1], len(kernel[\"averagePower\"])))\n",
    "#             max_pol[9].extend(np.repeat(layer[\"output\"][2], len(kernel[\"averagePower\"])))\n",
    "# #             newData[name][\"executionTime\"] = np.asarray(kernel[\"executionTime\"])\n",
    "#             max_pol_y.extend(np.asarray(kernel[\"averagePower\"]))\n",
    "#             i = i + 1\n",
    "#             continue"
   ]
  },
  {
   "cell_type": "code",
   "execution_count": 6,
   "metadata": {},
   "outputs": [
    {
     "name": "stdout",
     "output_type": "stream",
     "text": [
      "56160\n"
     ]
    }
   ],
   "source": [
    "    training_conv = []\n",
    "    evaluating_conv = []\n",
    "    \n",
    "    conv_2d = np.transpose(conv_2d)\n",
    "    \n",
    "    np.random.shuffle(conv_2d)\n",
    "    \n",
    "    conv_2d = np.transpose(conv_2d)\n",
    "\n",
    "    percentage = 0.8\n",
    "    length = round(percentage * len(conv_2d[0]))\n",
    "    \n",
    "    for column in conv_2d:\n",
    "        training_conv.append(column[:length])\n",
    "        evaluating_conv.append(column[length:])\n",
    "\n",
    "    training_y = np.asarray(training_conv[10])\n",
    "    evaluating_y = np.asarray(evaluating_conv[10])\n",
    "    \n",
    "    training_conv = np.asarray(training_conv)\n",
    "    evaluating_conv = np.asarray(evaluating_conv)\n",
    "    \n",
    "    training_conv = training_conv[:-1]\n",
    "    evaluating_conv = evaluating_conv[:-1]\n",
    "    \n",
    "    print(len(conv_2d[0]))"
   ]
  },
  {
   "cell_type": "code",
   "execution_count": 7,
   "metadata": {},
   "outputs": [
    {
     "data": {
      "text/plain": [
       "LinearRegression(copy_X=True, fit_intercept=True, n_jobs=None, normalize=False)"
      ]
     },
     "execution_count": 7,
     "metadata": {},
     "output_type": "execute_result"
    }
   ],
   "source": [
    "    training_conv = np.transpose(training_conv)\n",
    "    evaluating_conv = np.transpose(evaluating_conv)\n",
    "    \n",
    "    reg = LinearRegression()\n",
    "    reg.fit(training_conv, training_y)"
   ]
  },
  {
   "cell_type": "code",
   "execution_count": 8,
   "metadata": {},
   "outputs": [],
   "source": [
    "    y_pred = reg.predict(evaluating_conv)"
   ]
  },
  {
   "cell_type": "code",
   "execution_count": 9,
   "metadata": {},
   "outputs": [
    {
     "name": "stdout",
     "output_type": "stream",
     "text": [
      "Intercept: \n",
      " 14436594.517744172\n",
      "Coefficients: \n",
      " [ 4.12748267e+09 -4.12761157e+09  1.43285102e+08 -1.43285102e+08\n",
      "  3.76392265e+06 -3.76392296e+06 -1.44365899e+07  1.12502099e+07\n",
      " -1.11213118e+07 -8.89301300e-04]\n"
     ]
    }
   ],
   "source": [
    "    print('Intercept: \\n', reg.intercept_)\n",
    "    print('Coefficients: \\n', reg.coef_)"
   ]
  },
  {
   "cell_type": "code",
   "execution_count": 10,
   "metadata": {},
   "outputs": [
    {
     "data": {
      "text/plain": [
       "0.5985495219941448"
      ]
     },
     "execution_count": 10,
     "metadata": {},
     "output_type": "execute_result"
    }
   ],
   "source": [
    "    reg.score(evaluating_conv, evaluating_y)"
   ]
  },
  {
   "cell_type": "code",
   "execution_count": 11,
   "metadata": {},
   "outputs": [
    {
     "name": "stdout",
     "output_type": "stream",
     "text": [
      "Mean Absolute Error: 0.16605839260835253\n",
      "Mean Squared Error: 0.06065486383721834\n",
      "Root Mean Squared Error: 0.2462820818436013\n"
     ]
    }
   ],
   "source": [
    "    print('Mean Absolute Error:', metrics.mean_absolute_error(evaluating_y, y_pred))\n",
    "    print('Mean Squared Error:', metrics.mean_squared_error(evaluating_y, y_pred))\n",
    "    print('Root Mean Squared Error:', np.sqrt(metrics.mean_squared_error(evaluating_y, y_pred)))"
   ]
  },
  {
   "cell_type": "code",
   "execution_count": null,
   "metadata": {},
   "outputs": [],
   "source": []
  }
 ],
 "metadata": {
  "kernelspec": {
   "display_name": "Python 3",
   "language": "python",
   "name": "python3"
  },
  "language_info": {
   "codemirror_mode": {
    "name": "ipython",
    "version": 3
   },
   "file_extension": ".py",
   "mimetype": "text/x-python",
   "name": "python",
   "nbconvert_exporter": "python",
   "pygments_lexer": "ipython3",
   "version": "3.7.2"
  }
 },
 "nbformat": 4,
 "nbformat_minor": 2
}
