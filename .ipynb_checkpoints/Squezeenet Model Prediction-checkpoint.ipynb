{
 "cells": [
  {
   "cell_type": "code",
   "execution_count": 1,
   "metadata": {},
   "outputs": [],
   "source": [
    "import matplotlib.pyplot as plt \n",
    "import numpy as np\n",
    "from sklearn.linear_model import LinearRegression\n",
    "from sklearn.metrics import mean_squared_error, r2_score\n",
    "import json\n",
    "import csv\n",
    "from tflite_benchmark_executor import TfLiteBenchmarkExecutor"
   ]
  },
  {
   "cell_type": "code",
   "execution_count": 2,
   "metadata": {},
   "outputs": [
    {
     "name": "stdout",
     "output_type": "stream",
     "text": [
      "ok\n"
     ]
    }
   ],
   "source": [
    "bench_executor = TfLiteBenchmarkExecutor()"
   ]
  },
  {
   "cell_type": "code",
   "execution_count": 3,
   "metadata": {},
   "outputs": [
    {
     "name": "stdout",
     "output_type": "stream",
     "text": [
      "Processing outputs\n",
      "Parsing inferences output\n",
      "Processing accuracy\n",
      "Parsing energy output\n",
      "Warning, time between clocks: 1012\n",
      "Warning, time between clocks: 1014\n",
      "Warning, time between clocks: 986\n",
      "Processing energy and power\n",
      "squeezenet/image0000_loop00.json\n"
     ]
    }
   ],
   "source": [
    "kernels = bench_executor.run()"
   ]
  },
  {
   "cell_type": "code",
   "execution_count": 4,
   "metadata": {},
   "outputs": [],
   "source": [
    "newKernels = []\n",
    "for kernel in kernels:\n",
    "    if(kernel[\"kernel\"] == \"CONV_2D\" or kernel[\"kernel\"] == \"MAX_POOL_2D\"):\n",
    "        newKernels.append(kernel)"
   ]
  },
  {
   "cell_type": "code",
   "execution_count": 5,
   "metadata": {},
   "outputs": [],
   "source": [
    "with open('kernels.json', 'w') as fp:\n",
    "    json.dump(newKernels, fp)"
   ]
  },
  {
   "cell_type": "code",
   "execution_count": 6,
   "metadata": {},
   "outputs": [],
   "source": [
    "with open('squezzenet_layers.txt') as json_file:\n",
    "    data = json.load(json_file)\n",
    "    \n",
    "    names = []\n",
    "    for layer in data:\n",
    "        names.append(layer)\n",
    "        \n",
    "    itens = []\n",
    "    for name in names:\n",
    "        itens.append(data[name])"
   ]
  },
  {
   "cell_type": "code",
   "execution_count": 7,
   "metadata": {},
   "outputs": [
    {
     "name": "stdout",
     "output_type": "stream",
     "text": [
      "11\n",
      "0\n",
      "45360\n",
      "0\n"
     ]
    }
   ],
   "source": [
    "    conv_2d = [[],[],[],[],[],[],[],[],[],[],[]]\n",
    "    max_pol = [[],[],[],[],[],[],[],[],[],[],[]]\n",
    "    \n",
    "    conv_2d_y = []\n",
    "    max_pol_y = []\n",
    "    \n",
    "    newData = {}\n",
    "    i = 0\n",
    "    for kernel,layer in zip(kernels,itens):\n",
    "        \n",
    "        if(kernel[\"kernel\"] == \"CONV_2D\"):\n",
    "            conv_2d[0].extend(np.repeat(layer[\"output\"][0], len(kernel[\"averagePower\"])))\n",
    "            conv_2d[1].extend(np.repeat(layer[\"output\"][1], len(kernel[\"averagePower\"])))\n",
    "            conv_2d[2].extend(np.repeat(layer[\"output\"][2], len(kernel[\"averagePower\"])))\n",
    "            conv_2d[3].extend(np.repeat(layer[\"filters\"][0], len(kernel[\"averagePower\"])))\n",
    "            conv_2d[4].extend(np.repeat(layer[\"filters\"][1], len(kernel[\"averagePower\"])))\n",
    "            conv_2d[5].extend(np.repeat(layer[\"filters\"][2], len(kernel[\"averagePower\"])))\n",
    "            conv_2d[6].extend(np.repeat(layer[\"stride\"], len(kernel[\"averagePower\"])))\n",
    "            conv_2d[7].extend(np.repeat(layer[\"input\"][0], len(kernel[\"averagePower\"])))\n",
    "            conv_2d[8].extend(np.repeat(layer[\"input\"][1], len(kernel[\"averagePower\"])))\n",
    "            conv_2d[9].extend(np.repeat(layer[\"input\"][2], len(kernel[\"averagePower\"])))\n",
    "#             newData[name][\"executionTime\"] = np.asarray(kernel[\"executionTime\"])\n",
    "            conv_2d[10].extend(np.asarray(kernel[\"averagePower\"]))\n",
    "            i = i + 1\n",
    "            continue\n",
    "        \n",
    "#         if(kernel[\"kernel\"] == \"MAX_POOL_2D\"):\n",
    "            \n",
    "#             max_pol[0].extend(np.repeat(layer[\"output\"][0], len(kernel[\"averagePower\"]))) \n",
    "#             max_pol[1].extend(np.repeat(layer[\"output\"][1], len(kernel[\"averagePower\"])))\n",
    "#             max_pol[2].extend(np.repeat(layer[\"output\"][2], len(kernel[\"averagePower\"])))\n",
    "#             max_pol[3].extend(np.repeat(layer[\"filters\"][0], len(kernel[\"averagePower\"])))\n",
    "#             max_pol[4].extend(np.repeat(layer[\"filters\"][1], len(kernel[\"averagePower\"])))\n",
    "#             max_pol[5].extend(np.repeat(layer[\"filters\"][2], len(kernel[\"averagePower\"])))\n",
    "#             max_pol[6].extend(np.repeat(layer[\"stride\"], len(kernel[\"averagePower\"])))\n",
    "#             max_pol[7].extend(np.repeat(layer[\"output\"][0], len(kernel[\"averagePower\"]))) \n",
    "#             max_pol[8].extend(np.repeat(layer[\"output\"][1], len(kernel[\"averagePower\"])))\n",
    "#             max_pol[9].extend(np.repeat(layer[\"output\"][2], len(kernel[\"averagePower\"])))\n",
    "# #             newData[name][\"executionTime\"] = np.asarray(kernel[\"executionTime\"])\n",
    "#             max_pol_y.extend(np.asarray(kernel[\"averagePower\"]))\n",
    "#             i = i + 1\n",
    "#             continue\n",
    "    training_conv = []\n",
    "    evaluating_conv = []\n",
    "    \n",
    "    conv_2d = np.transpose(conv_2d)\n",
    "    \n",
    "    np.random.shuffle(conv_2d)\n",
    "    \n",
    "    conv_2d = np.transpose(conv_2d)\n",
    "\n",
    "    percentage = 0.8\n",
    "    length = round(percentage * len(conv_2d_y))\n",
    "    \n",
    "    print(len(conv_2d))\n",
    "    print(len(conv_2d[0]))\n",
    "    \n",
    "    for column in conv_2d:\n",
    "        training_conv.append(column[:length])\n",
    "        evaluating_conv.append(column[length:])\n",
    "\n",
    "    print(len(training_conv[0]))\n",
    "    print(len(evaluating_conv[0]))\n",
    "\n",
    "    training_y = np.asarray(training_conv[10])\n",
    "    evaluating_y = np.asarray(evaluating_conv[10])\n",
    "    \n",
    "    training_conv = np.asarray(training_conv)\n",
    "    evaluating_conv = np.asarray(evaluating_conv)\n",
    "    \n",
    "#     training_conv = training_conv[:-1]\n",
    "#     evaluating_conv = evaluating_conv[:-1]\n",
    "    \n",
    "    print(len(training_y))"
   ]
  },
  {
   "cell_type": "code",
   "execution_count": null,
   "metadata": {},
   "outputs": [],
   "source": [
    "    print(training_conv)"
   ]
  },
  {
   "cell_type": "code",
   "execution_count": null,
   "metadata": {},
   "outputs": [],
   "source": [
    "    training_conv = np.transpose(training_conv)\n",
    "    evaluating_conv = np.transpose(evaluating_conv)\n",
    "    \n",
    "    reg = LinearRegression()\n",
    "    reg.fit(training_conv, training_y)\n",
    "    \n",
    "\n",
    "        "
   ]
  },
  {
   "cell_type": "code",
   "execution_count": null,
   "metadata": {},
   "outputs": [],
   "source": [
    "    y_pred = reg.predict(evaluating_conv)\n",
    "    "
   ]
  },
  {
   "cell_type": "code",
   "execution_count": null,
   "metadata": {},
   "outputs": [],
   "source": [
    "    print(y_pred)"
   ]
  },
  {
   "cell_type": "code",
   "execution_count": null,
   "metadata": {},
   "outputs": [],
   "source": [
    "    print('Intercept: \\n', reg.intercept_)\n",
    "    print('Coefficients: \\n', reg.coef_)"
   ]
  },
  {
   "cell_type": "code",
   "execution_count": null,
   "metadata": {},
   "outputs": [],
   "source": [
    "    from sklearn.metrics import accuracy_score"
   ]
  },
  {
   "cell_type": "code",
   "execution_count": null,
   "metadata": {},
   "outputs": [],
   "source": [
    "    print(len(evaluating_y))\n",
    "    print(len(y_pred))\n",
    "#     accuracy_score(evaluating_y, y_pred)"
   ]
  },
  {
   "cell_type": "code",
   "execution_count": null,
   "metadata": {},
   "outputs": [],
   "source": [
    "    reg.score(evaluating_conv, evaluating_y)"
   ]
  },
  {
   "cell_type": "code",
   "execution_count": null,
   "metadata": {},
   "outputs": [],
   "source": [
    "from sklearn import metrics\n",
    "print('Mean Absolute Error:', metrics.mean_absolute_error(evaluating_y, y_pred))\n",
    "print('Mean Squared Error:', metrics.mean_squared_error(evaluating_y, y_pred))\n",
    "print('Root Mean Squared Error:', np.sqrt(metrics.mean_squared_error(evaluating_y, y_pred)))"
   ]
  },
  {
   "cell_type": "code",
   "execution_count": null,
   "metadata": {},
   "outputs": [],
   "source": []
  }
 ],
 "metadata": {
  "kernelspec": {
   "display_name": "Python 3",
   "language": "python",
   "name": "python3"
  },
  "language_info": {
   "codemirror_mode": {
    "name": "ipython",
    "version": 3
   },
   "file_extension": ".py",
   "mimetype": "text/x-python",
   "name": "python",
   "nbconvert_exporter": "python",
   "pygments_lexer": "ipython3",
   "version": "3.7.2"
  }
 },
 "nbformat": 4,
 "nbformat_minor": 2
}
