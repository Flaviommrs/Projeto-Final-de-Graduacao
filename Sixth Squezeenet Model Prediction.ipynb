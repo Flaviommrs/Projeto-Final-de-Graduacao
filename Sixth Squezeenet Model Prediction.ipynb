{
 "cells": [
  {
   "cell_type": "code",
   "execution_count": 1,
   "metadata": {},
   "outputs": [],
   "source": [
    "import matplotlib.pyplot as plt \n",
    "import numpy as np\n",
    "from sklearn.linear_model import LinearRegression\n",
    "import json\n",
    "import csv\n",
    "from sklearn import metrics"
   ]
  },
  {
   "cell_type": "code",
   "execution_count": 2,
   "metadata": {},
   "outputs": [],
   "source": [
    "with open('kernels.json') as json_file:\n",
    "    kernels = json.load(json_file)"
   ]
  },
  {
   "cell_type": "code",
   "execution_count": 3,
   "metadata": {},
   "outputs": [],
   "source": [
    "with open('squezzenet_layers.txt') as json_file:\n",
    "    data = json.load(json_file)\n",
    "    \n",
    "    names = []\n",
    "    for layer in data:\n",
    "        names.append(layer)\n",
    "        \n",
    "    itens = []\n",
    "    for name in names:\n",
    "        itens.append(data[name])"
   ]
  },
  {
   "cell_type": "code",
   "execution_count": 4,
   "metadata": {},
   "outputs": [
    {
     "name": "stdout",
     "output_type": "stream",
     "text": [
      "44928\n"
     ]
    }
   ],
   "source": [
    "    conv_2d = [[],[],[],[],[],[],[],[],[],[],[]]\n",
    "    max_pol = [[],[],[],[],[],[],[],[],[],[],[]]\n",
    "    \n",
    "    conv_2d_time = [[],[],[],[],[],[],[],[],[],[],[]]\n",
    "    conv_2d_time = [[],[],[],[],[],[],[],[],[],[],[]]\n",
    "    \n",
    "    final_test_conv_energy = []\n",
    "    final_test_conv_time = []\n",
    "    \n",
    "    for kernel,layer in zip(kernels,itens):\n",
    "        \n",
    "        if(kernel[\"kernel\"] == \"CONV_2D\"):\n",
    "            \n",
    "            aux = [layer[\"output\"][0], layer[\"output\"][1], layer[\"output\"][2],\n",
    "                  layer[\"filters\"][0], layer[\"filters\"][1], layer[\"filters\"][2],\n",
    "                  layer[\"stride\"], layer[\"input\"][0], layer[\"input\"][1], layer[\"input\"][2]]\n",
    "            final_test_conv_energy.append(aux)\n",
    "            final_test_conv_time.append(aux)\n",
    "        \n",
    "            conv_2d[0].extend(np.repeat(layer[\"output\"][0], len(kernel['energySpent'])))\n",
    "            conv_2d[1].extend(np.repeat(layer[\"output\"][1], len(kernel['energySpent'])))\n",
    "            conv_2d[2].extend(np.repeat(layer[\"output\"][2], len(kernel['energySpent'])))\n",
    "            conv_2d[3].extend(np.repeat(layer[\"filters\"][0], len(kernel['energySpent'])))\n",
    "            conv_2d[4].extend(np.repeat(layer[\"filters\"][1], len(kernel['energySpent'])))\n",
    "            conv_2d[5].extend(np.repeat(layer[\"filters\"][2], len(kernel['energySpent'])))\n",
    "            conv_2d[6].extend(np.repeat(layer[\"stride\"], len(kernel['energySpent'])))\n",
    "            conv_2d[7].extend(np.repeat(layer[\"input\"][0], len(kernel['energySpent'])))\n",
    "            conv_2d[8].extend(np.repeat(layer[\"input\"][1], len(kernel['energySpent'])))\n",
    "            conv_2d[9].extend(np.repeat(layer[\"input\"][2], len(kernel['energySpent'])))\n",
    "            conv_2d[10].extend(np.asarray(kernel['energySpent']))\n",
    "    \n",
    "            conv_2d_time[0].extend(np.repeat(layer[\"output\"][0], len(kernel['executionTime'])))\n",
    "            conv_2d_time[1].extend(np.repeat(layer[\"output\"][1], len(kernel['executionTime'])))\n",
    "            conv_2d_time[2].extend(np.repeat(layer[\"output\"][2], len(kernel['executionTime'])))\n",
    "            conv_2d_time[3].extend(np.repeat(layer[\"filters\"][0], len(kernel['executionTime'])))\n",
    "            conv_2d_time[4].extend(np.repeat(layer[\"filters\"][1], len(kernel['executionTime'])))\n",
    "            conv_2d_time[5].extend(np.repeat(layer[\"filters\"][2], len(kernel['executionTime'])))\n",
    "            conv_2d_time[6].extend(np.repeat(layer[\"stride\"], len(kernel['executionTime'])))\n",
    "            conv_2d_time[7].extend(np.repeat(layer[\"input\"][0], len(kernel['executionTime'])))\n",
    "            conv_2d_time[8].extend(np.repeat(layer[\"input\"][1], len(kernel['executionTime'])))\n",
    "            conv_2d_time[9].extend(np.repeat(layer[\"input\"][2], len(kernel['executionTime'])))\n",
    "            conv_2d_time[10].extend(np.asarray(kernel['executionTime']))\n",
    "\n",
    "            continue\n",
    "\n",
    "    training_conv = []\n",
    "    evaluating_conv = []\n",
    "    \n",
    "    conv_2d = np.transpose(conv_2d)\n",
    "    \n",
    "    np.random.shuffle(conv_2d)\n",
    "    \n",
    "    conv_2d = np.transpose(conv_2d)\n",
    "\n",
    "    percentage = 0.8\n",
    "    length = round(percentage * len(conv_2d[0]))\n",
    "    \n",
    "    for column in conv_2d:\n",
    "        training_conv.append(column[:length])\n",
    "        evaluating_conv.append(column[length:])\n",
    "\n",
    "    training_y = np.asarray(training_conv[10])\n",
    "    evaluating_y = np.asarray(evaluating_conv[10])\n",
    "    \n",
    "    training_conv = np.asarray(training_conv)\n",
    "    evaluating_conv = np.asarray(evaluating_conv)\n",
    "    \n",
    "    training_conv = training_conv[:-1]\n",
    "    evaluating_conv = evaluating_conv[:-1]\n",
    "    \n",
    "    print(len(training_y))"
   ]
  },
  {
   "cell_type": "code",
   "execution_count": 5,
   "metadata": {},
   "outputs": [],
   "source": [
    "    training_conv_time = []\n",
    "    evaluating_conv_time = []\n",
    "    \n",
    "    conv_2d_time = np.transpose(conv_2d_time)\n",
    "    \n",
    "    np.random.shuffle(conv_2d_time)\n",
    "    \n",
    "    conv_2d_time = np.transpose(conv_2d_time)\n",
    "\n",
    "    percentage = 0.8\n",
    "    length = round(percentage * len(conv_2d_time[0]))\n",
    "    \n",
    "    for column in conv_2d_time:\n",
    "        training_conv_time.append(column[:length])\n",
    "        evaluating_conv_time.append(column[length:])\n",
    "        \n",
    "    training_y_time = np.asarray(training_conv_time[10])\n",
    "    evaluating_y_time = np.asarray(evaluating_conv_time[10])\n",
    "    \n",
    "    training_conv_time = np.asarray(training_conv_time)\n",
    "    evaluating_conv_time = np.asarray(evaluating_conv_time)\n",
    "    \n",
    "    training_conv_time = training_conv_time[:-1]\n",
    "    evaluating_conv_time = evaluating_conv_time[:-1]"
   ]
  },
  {
   "cell_type": "code",
   "execution_count": 6,
   "metadata": {},
   "outputs": [
    {
     "data": {
      "text/plain": [
       "LinearRegression(copy_X=True, fit_intercept=True, n_jobs=None, normalize=False)"
      ]
     },
     "execution_count": 6,
     "metadata": {},
     "output_type": "execute_result"
    }
   ],
   "source": [
    "    training_conv = np.transpose(training_conv)\n",
    "    evaluating_conv = np.transpose(evaluating_conv)\n",
    "    \n",
    "    reg = LinearRegression()\n",
    "    reg.fit(training_conv, training_y)"
   ]
  },
  {
   "cell_type": "code",
   "execution_count": 7,
   "metadata": {},
   "outputs": [
    {
     "data": {
      "text/plain": [
       "LinearRegression(copy_X=True, fit_intercept=True, n_jobs=None, normalize=False)"
      ]
     },
     "execution_count": 7,
     "metadata": {},
     "output_type": "execute_result"
    }
   ],
   "source": [
    "    training_conv_time = np.transpose(training_conv_time)\n",
    "    evaluating_conv_time = np.transpose(evaluating_conv_time)\n",
    "    \n",
    "    reg_time = LinearRegression()\n",
    "    reg_time.fit(training_conv_time, training_y_time)"
   ]
  },
  {
   "cell_type": "code",
   "execution_count": 8,
   "metadata": {},
   "outputs": [],
   "source": [
    "    y_pred = reg.predict(evaluating_conv)\n",
    "    y_pred_time = reg_time.predict(evaluating_conv_time)"
   ]
  },
  {
   "cell_type": "code",
   "execution_count": 9,
   "metadata": {},
   "outputs": [
    {
     "name": "stdout",
     "output_type": "stream",
     "text": [
      "Intercept: \n",
      " -984485.2326148619\n",
      "Coefficients: \n",
      " [ 4.00301052e+08 -4.00292262e+08  1.96387489e+07 -1.96387489e+07\n",
      "  5.82101970e+05 -5.82101898e+05  9.84485081e+05 -4.88847565e+05\n",
      "  4.80057520e+05  1.31726265e-04]\n",
      "Intercept: \n",
      " -402569875.90345156\n",
      "Coefficients: \n",
      " [-1.52014095e+10  1.52050038e+10 -1.63203540e+11  1.63203540e+11\n",
      "  3.32076007e+07 -3.32075778e+07  4.02569827e+08  2.76769126e+06\n",
      " -6.36206445e+06  4.15582657e-02]\n"
     ]
    }
   ],
   "source": [
    "    print('Intercept: \\n', reg.intercept_)\n",
    "    print('Coefficients: \\n', reg.coef_)\n",
    "    \n",
    "    print('Intercept: \\n', reg_time.intercept_)\n",
    "    print('Coefficients: \\n', reg_time.coef_)"
   ]
  },
  {
   "cell_type": "code",
   "execution_count": 10,
   "metadata": {},
   "outputs": [
    {
     "data": {
      "text/plain": [
       "0.9173408414672355"
      ]
     },
     "execution_count": 10,
     "metadata": {},
     "output_type": "execute_result"
    }
   ],
   "source": [
    "    reg.score(evaluating_conv, evaluating_y)"
   ]
  },
  {
   "cell_type": "code",
   "execution_count": 11,
   "metadata": {},
   "outputs": [
    {
     "data": {
      "text/plain": [
       "0.9248487366715735"
      ]
     },
     "execution_count": 11,
     "metadata": {},
     "output_type": "execute_result"
    }
   ],
   "source": [
    "    reg_time.score(evaluating_conv_time, evaluating_y_time)"
   ]
  },
  {
   "cell_type": "code",
   "execution_count": 12,
   "metadata": {},
   "outputs": [
    {
     "name": "stdout",
     "output_type": "stream",
     "text": [
      "Mean Absolute Error: 0.024824787608828162\n",
      "Mean Squared Error: 0.0014830938454189475\n",
      "Root Mean Squared Error: 0.038510957472113666\n"
     ]
    }
   ],
   "source": [
    "    print('Mean Absolute Error:', metrics.mean_absolute_error(evaluating_y, y_pred))\n",
    "    print('Mean Squared Error:', metrics.mean_squared_error(evaluating_y, y_pred))\n",
    "    print('Root Mean Squared Error:', np.sqrt(metrics.mean_squared_error(evaluating_y, y_pred)))"
   ]
  },
  {
   "cell_type": "code",
   "execution_count": 13,
   "metadata": {},
   "outputs": [
    {
     "name": "stdout",
     "output_type": "stream",
     "text": [
      "Mean Absolute Error: 7.836196188227063\n",
      "Mean Squared Error: 145.91537508935332\n",
      "Root Mean Squared Error: 12.079543662297567\n"
     ]
    }
   ],
   "source": [
    "    print('Mean Absolute Error:', metrics.mean_absolute_error(evaluating_y_time, y_pred_time))\n",
    "    print('Mean Squared Error:', metrics.mean_squared_error(evaluating_y_time, y_pred_time))\n",
    "    print('Root Mean Squared Error:', np.sqrt(metrics.mean_squared_error(evaluating_y_time, y_pred_time)))"
   ]
  },
  {
   "cell_type": "code",
   "execution_count": 14,
   "metadata": {},
   "outputs": [
    {
     "name": "stdout",
     "output_type": "stream",
     "text": [
      "3.2257450943411583\n"
     ]
    }
   ],
   "source": [
    "    energy_pred = reg.predict(final_test_conv_energy)\n",
    "    time_pred = reg_time.predict(final_test_conv_time)\n",
    "\n",
    "    average_power = sum(energy_pred)/(sum(time_pred)/1000)\n",
    "    print(average_power)"
   ]
  }
 ],
 "metadata": {
  "kernelspec": {
   "display_name": "Python 3",
   "language": "python",
   "name": "python3"
  },
  "language_info": {
   "codemirror_mode": {
    "name": "ipython",
    "version": 3
   },
   "file_extension": ".py",
   "mimetype": "text/x-python",
   "name": "python",
   "nbconvert_exporter": "python",
   "pygments_lexer": "ipython3",
   "version": "3.7.2"
  }
 },
 "nbformat": 4,
 "nbformat_minor": 2
}
